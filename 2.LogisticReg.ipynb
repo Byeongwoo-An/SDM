{
 "cells": [
  {
   "cell_type": "markdown",
   "id": "2336f076",
   "metadata": {},
   "source": [
    "https://thelaziestprogrammer.com/sharrington/math-of-machine-learning/solving-logreg-newtons-method\n",
    "\n",
    "https://rstudio-pubs-static.s3.amazonaws.com/160015_b192ca9855e84b57814e785ebd034a5e.html\n",
    "\n",
    "https://www.dotnetlovers.com/Article/225/logistic-regression-explained\n",
    "\n",
    "https://medium.com/deep-math-machine-learning-ai/chapter-2-0-logistic-regression-with-math-e9cbb3ec6077\n",
    "\n",
    "https://www.kaggle.com/code/elyas19/implement-logistic-regression-from-scratch/notebook\n",
    "\n",
    "https://sonsnotation.blogspot.com/2020/11/2-logistic-regression.html\n",
    "\n",
    "https://lee-jaejoon.github.io/stat-logistic/"
   ]
  },
  {
   "cell_type": "code",
   "execution_count": 1,
   "id": "b7f23fb8",
   "metadata": {},
   "outputs": [],
   "source": [
    "import numpy as np\n",
    "import pandas as pd\n",
    "import random"
   ]
  },
  {
   "cell_type": "markdown",
   "id": "009007e9",
   "metadata": {},
   "source": [
    "# Data Generating"
   ]
  },
  {
   "cell_type": "code",
   "execution_count": 44,
   "id": "b2ec05cf",
   "metadata": {},
   "outputs": [],
   "source": [
    "sample_size = 100\n",
    "x = np.random.normal(0,1,sample_size)\n",
    "pi = 0.3 + (1 * x)\n",
    "p = 1 / (1 + np.exp(-pi))\n",
    "y = np.random.binomial(1,p,sample_size) # 각각 매칭이 되는지\n",
    "df = pd.DataFrame(list(zip(np.ones(100,int),x, y)),columns=['intercept','x','y'])"
   ]
  },
  {
   "cell_type": "code",
   "execution_count": 45,
   "id": "cc7d0611",
   "metadata": {},
   "outputs": [
    {
     "data": {
      "text/html": [
       "<div>\n",
       "<style scoped>\n",
       "    .dataframe tbody tr th:only-of-type {\n",
       "        vertical-align: middle;\n",
       "    }\n",
       "\n",
       "    .dataframe tbody tr th {\n",
       "        vertical-align: top;\n",
       "    }\n",
       "\n",
       "    .dataframe thead th {\n",
       "        text-align: right;\n",
       "    }\n",
       "</style>\n",
       "<table border=\"1\" class=\"dataframe\">\n",
       "  <thead>\n",
       "    <tr style=\"text-align: right;\">\n",
       "      <th></th>\n",
       "      <th>intercept</th>\n",
       "      <th>x</th>\n",
       "      <th>y</th>\n",
       "    </tr>\n",
       "  </thead>\n",
       "  <tbody>\n",
       "    <tr>\n",
       "      <th>0</th>\n",
       "      <td>1</td>\n",
       "      <td>0.337672</td>\n",
       "      <td>1</td>\n",
       "    </tr>\n",
       "    <tr>\n",
       "      <th>1</th>\n",
       "      <td>1</td>\n",
       "      <td>-0.239283</td>\n",
       "      <td>1</td>\n",
       "    </tr>\n",
       "    <tr>\n",
       "      <th>2</th>\n",
       "      <td>1</td>\n",
       "      <td>1.153391</td>\n",
       "      <td>1</td>\n",
       "    </tr>\n",
       "    <tr>\n",
       "      <th>3</th>\n",
       "      <td>1</td>\n",
       "      <td>1.404200</td>\n",
       "      <td>1</td>\n",
       "    </tr>\n",
       "    <tr>\n",
       "      <th>4</th>\n",
       "      <td>1</td>\n",
       "      <td>0.265838</td>\n",
       "      <td>1</td>\n",
       "    </tr>\n",
       "    <tr>\n",
       "      <th>...</th>\n",
       "      <td>...</td>\n",
       "      <td>...</td>\n",
       "      <td>...</td>\n",
       "    </tr>\n",
       "    <tr>\n",
       "      <th>95</th>\n",
       "      <td>1</td>\n",
       "      <td>-0.373829</td>\n",
       "      <td>0</td>\n",
       "    </tr>\n",
       "    <tr>\n",
       "      <th>96</th>\n",
       "      <td>1</td>\n",
       "      <td>-0.978608</td>\n",
       "      <td>0</td>\n",
       "    </tr>\n",
       "    <tr>\n",
       "      <th>97</th>\n",
       "      <td>1</td>\n",
       "      <td>0.805649</td>\n",
       "      <td>1</td>\n",
       "    </tr>\n",
       "    <tr>\n",
       "      <th>98</th>\n",
       "      <td>1</td>\n",
       "      <td>0.994090</td>\n",
       "      <td>1</td>\n",
       "    </tr>\n",
       "    <tr>\n",
       "      <th>99</th>\n",
       "      <td>1</td>\n",
       "      <td>-0.917607</td>\n",
       "      <td>0</td>\n",
       "    </tr>\n",
       "  </tbody>\n",
       "</table>\n",
       "<p>100 rows × 3 columns</p>\n",
       "</div>"
      ],
      "text/plain": [
       "    intercept         x  y\n",
       "0           1  0.337672  1\n",
       "1           1 -0.239283  1\n",
       "2           1  1.153391  1\n",
       "3           1  1.404200  1\n",
       "4           1  0.265838  1\n",
       "..        ...       ... ..\n",
       "95          1 -0.373829  0\n",
       "96          1 -0.978608  0\n",
       "97          1  0.805649  1\n",
       "98          1  0.994090  1\n",
       "99          1 -0.917607  0\n",
       "\n",
       "[100 rows x 3 columns]"
      ]
     },
     "execution_count": 45,
     "metadata": {},
     "output_type": "execute_result"
    }
   ],
   "source": [
    "df"
   ]
  },
  {
   "cell_type": "markdown",
   "id": "7f4d0a92",
   "metadata": {},
   "source": [
    "# Newton's Method"
   ]
  },
  {
   "cell_type": "code",
   "execution_count": 46,
   "id": "48c16f87",
   "metadata": {
    "scrolled": true
   },
   "outputs": [
    {
     "name": "stdout",
     "output_type": "stream",
     "text": [
      "[[0.65]\n",
      " [0.67]]\n",
      "[[0.31]\n",
      " [1.14]]\n",
      "[[0.3 ]\n",
      " [1.21]]\n",
      "[[0.3 ]\n",
      " [1.21]]\n",
      "[[0.3 ]\n",
      " [1.21]]\n",
      "[[0.3 ]\n",
      " [1.21]]\n"
     ]
    }
   ],
   "source": [
    "# x = np.concatenate((df['x'].values.reshape(-1,1),df['intercept'].values.reshape(-1,1)), axis=1)\n",
    "x = df[['intercept','x']].values\n",
    "y = df['y'].values.reshape(-1,1)\n",
    "weight_vec = np.random.normal(0,1,[2,1])\n",
    "weight = [weight_vec]\n",
    "while True:\n",
    "    pi = 1/(1+np.exp(-x@weight_vec))\n",
    "    grad = (1/len(df))*(x.T@(pi-y))\n",
    "    \n",
    "    # np.dot, @ 매우 느림 .dot이 빠름\n",
    "    H = (x.T.dot(np.diag(pi.reshape(len(df)))).dot(np.diag((1-pi).reshape(len(df)))).dot(x))\n",
    "    weight_vec = weight_vec - (np.linalg.inv(1/len(df)*H).T@grad) # np.linalg.pinv\n",
    "    weight.append(weight_vec)\n",
    "    print(np.round(weight_vec,2))\n",
    "    \n",
    "    if all(np.round(weight[-2],10) == np.round(weight_vec,10)): # 이전 가중치와 소수점 10자리까지 같으면 중지\n",
    "        XWX = np.linalg.inv(H)\n",
    "        break"
   ]
  },
  {
   "cell_type": "markdown",
   "id": "171da932",
   "metadata": {},
   "source": [
    "# Predict"
   ]
  },
  {
   "cell_type": "code",
   "execution_count": 47,
   "id": "c07d3db8",
   "metadata": {},
   "outputs": [],
   "source": [
    "df['p'] = 1/(1+np.exp(-(weight_vec[1]*df['x'] + weight_vec[0])))\n",
    "df['p'].fillna(0,inplace=True)\n",
    "\n",
    "# cutoff\n",
    "df.loc[df['p'] >= 0.5, 'result'] = 1\n",
    "df.loc[df['p'] < 0.5, 'result'] = 0"
   ]
  },
  {
   "cell_type": "code",
   "execution_count": 48,
   "id": "a108a735",
   "metadata": {
    "scrolled": true
   },
   "outputs": [
    {
     "data": {
      "text/html": [
       "<div>\n",
       "<style scoped>\n",
       "    .dataframe tbody tr th:only-of-type {\n",
       "        vertical-align: middle;\n",
       "    }\n",
       "\n",
       "    .dataframe tbody tr th {\n",
       "        vertical-align: top;\n",
       "    }\n",
       "\n",
       "    .dataframe thead th {\n",
       "        text-align: right;\n",
       "    }\n",
       "</style>\n",
       "<table border=\"1\" class=\"dataframe\">\n",
       "  <thead>\n",
       "    <tr style=\"text-align: right;\">\n",
       "      <th></th>\n",
       "      <th>intercept</th>\n",
       "      <th>x</th>\n",
       "      <th>y</th>\n",
       "      <th>p</th>\n",
       "      <th>result</th>\n",
       "    </tr>\n",
       "  </thead>\n",
       "  <tbody>\n",
       "    <tr>\n",
       "      <th>0</th>\n",
       "      <td>1</td>\n",
       "      <td>0.337672</td>\n",
       "      <td>1</td>\n",
       "      <td>0.670569</td>\n",
       "      <td>1.0</td>\n",
       "    </tr>\n",
       "    <tr>\n",
       "      <th>1</th>\n",
       "      <td>1</td>\n",
       "      <td>-0.239283</td>\n",
       "      <td>1</td>\n",
       "      <td>0.502468</td>\n",
       "      <td>1.0</td>\n",
       "    </tr>\n",
       "    <tr>\n",
       "      <th>2</th>\n",
       "      <td>1</td>\n",
       "      <td>1.153391</td>\n",
       "      <td>1</td>\n",
       "      <td>0.845757</td>\n",
       "      <td>1.0</td>\n",
       "    </tr>\n",
       "    <tr>\n",
       "      <th>3</th>\n",
       "      <td>1</td>\n",
       "      <td>1.404200</td>\n",
       "      <td>1</td>\n",
       "      <td>0.881466</td>\n",
       "      <td>1.0</td>\n",
       "    </tr>\n",
       "    <tr>\n",
       "      <th>4</th>\n",
       "      <td>1</td>\n",
       "      <td>0.265838</td>\n",
       "      <td>1</td>\n",
       "      <td>0.651013</td>\n",
       "      <td>1.0</td>\n",
       "    </tr>\n",
       "    <tr>\n",
       "      <th>...</th>\n",
       "      <td>...</td>\n",
       "      <td>...</td>\n",
       "      <td>...</td>\n",
       "      <td>...</td>\n",
       "      <td>...</td>\n",
       "    </tr>\n",
       "    <tr>\n",
       "      <th>95</th>\n",
       "      <td>1</td>\n",
       "      <td>-0.373829</td>\n",
       "      <td>0</td>\n",
       "      <td>0.461681</td>\n",
       "      <td>0.0</td>\n",
       "    </tr>\n",
       "    <tr>\n",
       "      <th>96</th>\n",
       "      <td>1</td>\n",
       "      <td>-0.978608</td>\n",
       "      <td>0</td>\n",
       "      <td>0.291467</td>\n",
       "      <td>0.0</td>\n",
       "    </tr>\n",
       "    <tr>\n",
       "      <th>97</th>\n",
       "      <td>1</td>\n",
       "      <td>0.805649</td>\n",
       "      <td>1</td>\n",
       "      <td>0.782324</td>\n",
       "      <td>1.0</td>\n",
       "    </tr>\n",
       "    <tr>\n",
       "      <th>98</th>\n",
       "      <td>1</td>\n",
       "      <td>0.994090</td>\n",
       "      <td>1</td>\n",
       "      <td>0.818792</td>\n",
       "      <td>1.0</td>\n",
       "    </tr>\n",
       "    <tr>\n",
       "      <th>99</th>\n",
       "      <td>1</td>\n",
       "      <td>-0.917607</td>\n",
       "      <td>0</td>\n",
       "      <td>0.307004</td>\n",
       "      <td>0.0</td>\n",
       "    </tr>\n",
       "  </tbody>\n",
       "</table>\n",
       "<p>100 rows × 5 columns</p>\n",
       "</div>"
      ],
      "text/plain": [
       "    intercept         x  y         p  result\n",
       "0           1  0.337672  1  0.670569     1.0\n",
       "1           1 -0.239283  1  0.502468     1.0\n",
       "2           1  1.153391  1  0.845757     1.0\n",
       "3           1  1.404200  1  0.881466     1.0\n",
       "4           1  0.265838  1  0.651013     1.0\n",
       "..        ...       ... ..       ...     ...\n",
       "95          1 -0.373829  0  0.461681     0.0\n",
       "96          1 -0.978608  0  0.291467     0.0\n",
       "97          1  0.805649  1  0.782324     1.0\n",
       "98          1  0.994090  1  0.818792     1.0\n",
       "99          1 -0.917607  0  0.307004     0.0\n",
       "\n",
       "[100 rows x 5 columns]"
      ]
     },
     "execution_count": 48,
     "metadata": {},
     "output_type": "execute_result"
    }
   ],
   "source": [
    "df"
   ]
  },
  {
   "cell_type": "markdown",
   "id": "505ab09c",
   "metadata": {},
   "source": [
    "# Library"
   ]
  },
  {
   "cell_type": "code",
   "execution_count": 49,
   "id": "ebf411a2",
   "metadata": {},
   "outputs": [],
   "source": [
    "from sklearn.linear_model import LogisticRegression\n",
    "from sklearn.metrics import accuracy_score"
   ]
  },
  {
   "cell_type": "code",
   "execution_count": 50,
   "id": "51df553c",
   "metadata": {},
   "outputs": [
    {
     "data": {
      "text/plain": [
       "LogisticRegression()"
      ]
     },
     "execution_count": 50,
     "metadata": {},
     "output_type": "execute_result"
    }
   ],
   "source": [
    "model = LogisticRegression()\n",
    "model.fit(df['x'].values.reshape(-1,1), df[\"y\"])"
   ]
  },
  {
   "cell_type": "markdown",
   "id": "fe464805",
   "metadata": {},
   "source": [
    "# Comparison"
   ]
  },
  {
   "cell_type": "code",
   "execution_count": 51,
   "id": "2510a783",
   "metadata": {},
   "outputs": [
    {
     "name": "stdout",
     "output_type": "stream",
     "text": [
      "Implementation: [[0.30055361 1.21481014]]\n",
      "sklearn library: [0.29452055] [[1.12539326]]\n"
     ]
    }
   ],
   "source": [
    "# Coefficient\n",
    "print(\"Implementation:\",weight[-1].T)\n",
    "print(\"sklearn library:\",model.intercept_,model.coef_)"
   ]
  },
  {
   "cell_type": "code",
   "execution_count": 52,
   "id": "6b7b1a2f",
   "metadata": {},
   "outputs": [
    {
     "name": "stdout",
     "output_type": "stream",
     "text": [
      "Implementation: 69.0\n",
      "sklearn library: 68.0\n"
     ]
    }
   ],
   "source": [
    "# Score\n",
    "pred = model.predict(df['x'].values.reshape(-1,1))\n",
    "print(\"Implementation:\",sum(df.result.values == df.y.values)/1)\n",
    "print(\"sklearn library:\",np.round(accuracy_score(df['y'],pred)*100,2))"
   ]
  },
  {
   "cell_type": "markdown",
   "id": "527fb201",
   "metadata": {},
   "source": [
    "# Variance and Standard Error of $ \\hat{\\beta} $"
   ]
  },
  {
   "cell_type": "code",
   "execution_count": 53,
   "id": "798230de",
   "metadata": {},
   "outputs": [
    {
     "data": {
      "text/plain": [
       "array([0.22985132, 0.28693678])"
      ]
     },
     "execution_count": 53,
     "metadata": {},
     "output_type": "execute_result"
    }
   ],
   "source": [
    "np.diag(np.sqrt(XWX))"
   ]
  },
  {
   "cell_type": "code",
   "execution_count": 54,
   "id": "3bbf626a",
   "metadata": {},
   "outputs": [
    {
     "name": "stdout",
     "output_type": "stream",
     "text": [
      "Optimization terminated successfully.\n",
      "         Current function value: 0.563119\n",
      "         Iterations 6\n"
     ]
    },
    {
     "data": {
      "text/html": [
       "<table class=\"simpletable\">\n",
       "<caption>Logit Regression Results</caption>\n",
       "<tr>\n",
       "  <th>Dep. Variable:</th>           <td>y</td>        <th>  No. Observations:  </th>  <td>   100</td>  \n",
       "</tr>\n",
       "<tr>\n",
       "  <th>Model:</th>                 <td>Logit</td>      <th>  Df Residuals:      </th>  <td>    98</td>  \n",
       "</tr>\n",
       "<tr>\n",
       "  <th>Method:</th>                 <td>MLE</td>       <th>  Df Model:          </th>  <td>     1</td>  \n",
       "</tr>\n",
       "<tr>\n",
       "  <th>Date:</th>            <td>Wed, 29 Jun 2022</td> <th>  Pseudo R-squ.:     </th>  <td>0.1759</td>  \n",
       "</tr>\n",
       "<tr>\n",
       "  <th>Time:</th>                <td>10:20:55</td>     <th>  Log-Likelihood:    </th> <td> -56.312</td> \n",
       "</tr>\n",
       "<tr>\n",
       "  <th>converged:</th>             <td>True</td>       <th>  LL-Null:           </th> <td> -68.331</td> \n",
       "</tr>\n",
       "<tr>\n",
       "  <th>Covariance Type:</th>     <td>nonrobust</td>    <th>  LLR p-value:       </th> <td>9.439e-07</td>\n",
       "</tr>\n",
       "</table>\n",
       "<table class=\"simpletable\">\n",
       "<tr>\n",
       "      <td></td>         <th>coef</th>     <th>std err</th>      <th>z</th>      <th>P>|z|</th>  <th>[0.025</th>    <th>0.975]</th>  \n",
       "</tr>\n",
       "<tr>\n",
       "  <th>intercept</th> <td>    0.3006</td> <td>    0.230</td> <td>    1.308</td> <td> 0.191</td> <td>   -0.150</td> <td>    0.751</td>\n",
       "</tr>\n",
       "<tr>\n",
       "  <th>x</th>         <td>    1.2148</td> <td>    0.287</td> <td>    4.234</td> <td> 0.000</td> <td>    0.652</td> <td>    1.777</td>\n",
       "</tr>\n",
       "</table>"
      ],
      "text/plain": [
       "<class 'statsmodels.iolib.summary.Summary'>\n",
       "\"\"\"\n",
       "                           Logit Regression Results                           \n",
       "==============================================================================\n",
       "Dep. Variable:                      y   No. Observations:                  100\n",
       "Model:                          Logit   Df Residuals:                       98\n",
       "Method:                           MLE   Df Model:                            1\n",
       "Date:                Wed, 29 Jun 2022   Pseudo R-squ.:                  0.1759\n",
       "Time:                        10:20:55   Log-Likelihood:                -56.312\n",
       "converged:                       True   LL-Null:                       -68.331\n",
       "Covariance Type:            nonrobust   LLR p-value:                 9.439e-07\n",
       "==============================================================================\n",
       "                 coef    std err          z      P>|z|      [0.025      0.975]\n",
       "------------------------------------------------------------------------------\n",
       "intercept      0.3006      0.230      1.308      0.191      -0.150       0.751\n",
       "x              1.2148      0.287      4.234      0.000       0.652       1.777\n",
       "==============================================================================\n",
       "\"\"\""
      ]
     },
     "execution_count": 54,
     "metadata": {},
     "output_type": "execute_result"
    }
   ],
   "source": [
    "import statsmodels.api as sm\n",
    "logit_model = sm.Logit(y, df[['intercept','x']]).fit()\n",
    "logit_model.summary()"
   ]
  },
  {
   "cell_type": "markdown",
   "id": "f7283f1c",
   "metadata": {},
   "source": [
    "# Application of N-dimensional"
   ]
  },
  {
   "cell_type": "code",
   "execution_count": 55,
   "id": "1e28119c",
   "metadata": {},
   "outputs": [],
   "source": [
    "sample_size = 100\n",
    "x1 = np.random.normal(0,1,sample_size)\n",
    "x2 = np.random.normal(0,1,sample_size)\n",
    "pi = 0.3 + ((1 * x1)+(0.4 * x2))\n",
    "p = 1 / (1 + np.exp(-pi))\n",
    "y = np.random.binomial(1,p,sample_size)\n",
    "df = pd.DataFrame(list(zip(np.ones(100,int),x1, x2, y)),columns=['intercept','x1','x2','y'])"
   ]
  },
  {
   "cell_type": "code",
   "execution_count": 56,
   "id": "b00713b4",
   "metadata": {},
   "outputs": [
    {
     "name": "stdout",
     "output_type": "stream",
     "text": [
      "[[1.08]\n",
      " [1.42]\n",
      " [1.52]]\n",
      "[[-0.78]\n",
      " [-0.11]\n",
      " [-1.04]]\n",
      "[[0.78]\n",
      " [1.09]\n",
      " [1.21]]\n",
      "[[-0.2 ]\n",
      " [ 0.52]\n",
      " [-0.27]]\n",
      "[[0.16]\n",
      " [0.8 ]\n",
      " [0.3 ]]\n",
      "[[0.16]\n",
      " [0.88]\n",
      " [0.29]]\n",
      "[[0.17]\n",
      " [0.89]\n",
      " [0.29]]\n",
      "[[0.17]\n",
      " [0.89]\n",
      " [0.29]]\n",
      "[[0.17]\n",
      " [0.89]\n",
      " [0.29]]\n"
     ]
    }
   ],
   "source": [
    "# x = np.concatenate((df['x'].values.reshape(-1,1),df['intercept'].values.reshape(-1,1)), axis=1)\n",
    "x = df[['intercept','x1','x2',]].values\n",
    "y = df['y'].values.reshape(-1,1)\n",
    "weight_vec = np.random.normal(0,1,[3,1])\n",
    "weight = [weight_vec]\n",
    "\n",
    "while True:\n",
    "    pi = 1/(1+np.exp(-x@weight_vec))\n",
    "    grad = (1/len(df))*(x.T@(pi-y))\n",
    "    \n",
    "    # np.dot, @ 매우 느림 .dot이 빠름\n",
    "    H = x.T.dot(np.diag(pi.reshape(len(df)))).dot(np.diag((1-pi).reshape(len(df)))).dot(x)\n",
    "    weight_vec = weight_vec - (np.linalg.inv((1/len(df))*H)).T@grad # np.linalg.pinv\n",
    "    weight.append(weight_vec)\n",
    "    print(np.round(weight_vec,2))\n",
    "    \n",
    "    if all(np.round(weight[-2],10) == np.round(weight_vec,10)): # 이전 가중치와 소수점 10자리까지 같으면 중지\n",
    "        break"
   ]
  },
  {
   "cell_type": "code",
   "execution_count": 57,
   "id": "6cafdf57",
   "metadata": {},
   "outputs": [
    {
     "name": "stdout",
     "output_type": "stream",
     "text": [
      "sklearn library: [0.16006011] [[0.8309457  0.26811051]]\n",
      "Implementation: [[0.16542088 0.88508007 0.29194162]]\n"
     ]
    }
   ],
   "source": [
    "model = LogisticRegression()\n",
    "model.fit(df[['x1','x2',]].values.reshape(-1,2), df[\"y\"])\n",
    "print(\"sklearn library:\", model.intercept_, model.coef_)\n",
    "print(\"Implementation:\",weight[-1].T)"
   ]
  },
  {
   "cell_type": "code",
   "execution_count": 58,
   "id": "1b09bc15",
   "metadata": {},
   "outputs": [
    {
     "data": {
      "text/html": [
       "<div>\n",
       "<style scoped>\n",
       "    .dataframe tbody tr th:only-of-type {\n",
       "        vertical-align: middle;\n",
       "    }\n",
       "\n",
       "    .dataframe tbody tr th {\n",
       "        vertical-align: top;\n",
       "    }\n",
       "\n",
       "    .dataframe thead th {\n",
       "        text-align: right;\n",
       "    }\n",
       "</style>\n",
       "<table border=\"1\" class=\"dataframe\">\n",
       "  <thead>\n",
       "    <tr style=\"text-align: right;\">\n",
       "      <th></th>\n",
       "      <th>intercept</th>\n",
       "      <th>mean radius</th>\n",
       "      <th>mean texture</th>\n",
       "      <th>mean area</th>\n",
       "      <th>mean symmetry</th>\n",
       "      <th>target</th>\n",
       "    </tr>\n",
       "  </thead>\n",
       "  <tbody>\n",
       "    <tr>\n",
       "      <th>0</th>\n",
       "      <td>1</td>\n",
       "      <td>17.99</td>\n",
       "      <td>10.38</td>\n",
       "      <td>1001.0</td>\n",
       "      <td>0.2419</td>\n",
       "      <td>0</td>\n",
       "    </tr>\n",
       "    <tr>\n",
       "      <th>1</th>\n",
       "      <td>1</td>\n",
       "      <td>20.57</td>\n",
       "      <td>17.77</td>\n",
       "      <td>1326.0</td>\n",
       "      <td>0.1812</td>\n",
       "      <td>0</td>\n",
       "    </tr>\n",
       "    <tr>\n",
       "      <th>2</th>\n",
       "      <td>1</td>\n",
       "      <td>19.69</td>\n",
       "      <td>21.25</td>\n",
       "      <td>1203.0</td>\n",
       "      <td>0.2069</td>\n",
       "      <td>0</td>\n",
       "    </tr>\n",
       "    <tr>\n",
       "      <th>3</th>\n",
       "      <td>1</td>\n",
       "      <td>11.42</td>\n",
       "      <td>20.38</td>\n",
       "      <td>386.1</td>\n",
       "      <td>0.2597</td>\n",
       "      <td>0</td>\n",
       "    </tr>\n",
       "    <tr>\n",
       "      <th>4</th>\n",
       "      <td>1</td>\n",
       "      <td>20.29</td>\n",
       "      <td>14.34</td>\n",
       "      <td>1297.0</td>\n",
       "      <td>0.1809</td>\n",
       "      <td>0</td>\n",
       "    </tr>\n",
       "    <tr>\n",
       "      <th>...</th>\n",
       "      <td>...</td>\n",
       "      <td>...</td>\n",
       "      <td>...</td>\n",
       "      <td>...</td>\n",
       "      <td>...</td>\n",
       "      <td>...</td>\n",
       "    </tr>\n",
       "    <tr>\n",
       "      <th>564</th>\n",
       "      <td>1</td>\n",
       "      <td>21.56</td>\n",
       "      <td>22.39</td>\n",
       "      <td>1479.0</td>\n",
       "      <td>0.1726</td>\n",
       "      <td>0</td>\n",
       "    </tr>\n",
       "    <tr>\n",
       "      <th>565</th>\n",
       "      <td>1</td>\n",
       "      <td>20.13</td>\n",
       "      <td>28.25</td>\n",
       "      <td>1261.0</td>\n",
       "      <td>0.1752</td>\n",
       "      <td>0</td>\n",
       "    </tr>\n",
       "    <tr>\n",
       "      <th>566</th>\n",
       "      <td>1</td>\n",
       "      <td>16.60</td>\n",
       "      <td>28.08</td>\n",
       "      <td>858.1</td>\n",
       "      <td>0.1590</td>\n",
       "      <td>0</td>\n",
       "    </tr>\n",
       "    <tr>\n",
       "      <th>567</th>\n",
       "      <td>1</td>\n",
       "      <td>20.60</td>\n",
       "      <td>29.33</td>\n",
       "      <td>1265.0</td>\n",
       "      <td>0.2397</td>\n",
       "      <td>0</td>\n",
       "    </tr>\n",
       "    <tr>\n",
       "      <th>568</th>\n",
       "      <td>1</td>\n",
       "      <td>7.76</td>\n",
       "      <td>24.54</td>\n",
       "      <td>181.0</td>\n",
       "      <td>0.1587</td>\n",
       "      <td>1</td>\n",
       "    </tr>\n",
       "  </tbody>\n",
       "</table>\n",
       "<p>569 rows × 6 columns</p>\n",
       "</div>"
      ],
      "text/plain": [
       "     intercept  mean radius  mean texture  mean area  mean symmetry  target\n",
       "0            1        17.99         10.38     1001.0         0.2419       0\n",
       "1            1        20.57         17.77     1326.0         0.1812       0\n",
       "2            1        19.69         21.25     1203.0         0.2069       0\n",
       "3            1        11.42         20.38      386.1         0.2597       0\n",
       "4            1        20.29         14.34     1297.0         0.1809       0\n",
       "..         ...          ...           ...        ...            ...     ...\n",
       "564          1        21.56         22.39     1479.0         0.1726       0\n",
       "565          1        20.13         28.25     1261.0         0.1752       0\n",
       "566          1        16.60         28.08      858.1         0.1590       0\n",
       "567          1        20.60         29.33     1265.0         0.2397       0\n",
       "568          1         7.76         24.54      181.0         0.1587       1\n",
       "\n",
       "[569 rows x 6 columns]"
      ]
     },
     "execution_count": 58,
     "metadata": {},
     "output_type": "execute_result"
    }
   ],
   "source": [
    "import pandas as pd\n",
    "from sklearn import datasets\n",
    "\n",
    "# 유방암 데이터셋 로드\n",
    "data = datasets.load_breast_cancer()\n",
    "ex = pd.DataFrame(data.data, columns = data.feature_names)\n",
    "ex['target'] = data.target\n",
    "ex['intercept'] = 1\n",
    "ex = ex[['intercept','mean radius', 'mean texture', 'mean area', 'mean symmetry','target']]\n",
    "ex"
   ]
  },
  {
   "cell_type": "code",
   "execution_count": 59,
   "id": "f14b59ed",
   "metadata": {},
   "outputs": [
    {
     "data": {
      "text/html": [
       "<div>\n",
       "<style scoped>\n",
       "    .dataframe tbody tr th:only-of-type {\n",
       "        vertical-align: middle;\n",
       "    }\n",
       "\n",
       "    .dataframe tbody tr th {\n",
       "        vertical-align: top;\n",
       "    }\n",
       "\n",
       "    .dataframe thead th {\n",
       "        text-align: right;\n",
       "    }\n",
       "</style>\n",
       "<table border=\"1\" class=\"dataframe\">\n",
       "  <thead>\n",
       "    <tr style=\"text-align: right;\">\n",
       "      <th></th>\n",
       "      <th>intercept</th>\n",
       "      <th>mean radius</th>\n",
       "      <th>mean texture</th>\n",
       "      <th>mean area</th>\n",
       "      <th>mean symmetry</th>\n",
       "      <th>target</th>\n",
       "    </tr>\n",
       "  </thead>\n",
       "  <tbody>\n",
       "    <tr>\n",
       "      <th>0</th>\n",
       "      <td>1</td>\n",
       "      <td>1.097064</td>\n",
       "      <td>-2.073335</td>\n",
       "      <td>0.984375</td>\n",
       "      <td>2.217515</td>\n",
       "      <td>0</td>\n",
       "    </tr>\n",
       "    <tr>\n",
       "      <th>1</th>\n",
       "      <td>1</td>\n",
       "      <td>1.829821</td>\n",
       "      <td>-0.353632</td>\n",
       "      <td>1.908708</td>\n",
       "      <td>0.001392</td>\n",
       "      <td>0</td>\n",
       "    </tr>\n",
       "    <tr>\n",
       "      <th>2</th>\n",
       "      <td>1</td>\n",
       "      <td>1.579888</td>\n",
       "      <td>0.456187</td>\n",
       "      <td>1.558884</td>\n",
       "      <td>0.939685</td>\n",
       "      <td>0</td>\n",
       "    </tr>\n",
       "    <tr>\n",
       "      <th>3</th>\n",
       "      <td>1</td>\n",
       "      <td>-0.768909</td>\n",
       "      <td>0.253732</td>\n",
       "      <td>-0.764464</td>\n",
       "      <td>2.867383</td>\n",
       "      <td>0</td>\n",
       "    </tr>\n",
       "    <tr>\n",
       "      <th>4</th>\n",
       "      <td>1</td>\n",
       "      <td>1.750297</td>\n",
       "      <td>-1.151816</td>\n",
       "      <td>1.826229</td>\n",
       "      <td>-0.009560</td>\n",
       "      <td>0</td>\n",
       "    </tr>\n",
       "    <tr>\n",
       "      <th>...</th>\n",
       "      <td>...</td>\n",
       "      <td>...</td>\n",
       "      <td>...</td>\n",
       "      <td>...</td>\n",
       "      <td>...</td>\n",
       "      <td>...</td>\n",
       "    </tr>\n",
       "    <tr>\n",
       "      <th>564</th>\n",
       "      <td>1</td>\n",
       "      <td>2.110995</td>\n",
       "      <td>0.721473</td>\n",
       "      <td>2.343856</td>\n",
       "      <td>-0.312589</td>\n",
       "      <td>0</td>\n",
       "    </tr>\n",
       "    <tr>\n",
       "      <th>565</th>\n",
       "      <td>1</td>\n",
       "      <td>1.704854</td>\n",
       "      <td>2.085134</td>\n",
       "      <td>1.723842</td>\n",
       "      <td>-0.217664</td>\n",
       "      <td>0</td>\n",
       "    </tr>\n",
       "    <tr>\n",
       "      <th>566</th>\n",
       "      <td>1</td>\n",
       "      <td>0.702284</td>\n",
       "      <td>2.045574</td>\n",
       "      <td>0.577953</td>\n",
       "      <td>-0.809117</td>\n",
       "      <td>0</td>\n",
       "    </tr>\n",
       "    <tr>\n",
       "      <th>567</th>\n",
       "      <td>1</td>\n",
       "      <td>1.838341</td>\n",
       "      <td>2.336457</td>\n",
       "      <td>1.735218</td>\n",
       "      <td>2.137194</td>\n",
       "      <td>0</td>\n",
       "    </tr>\n",
       "    <tr>\n",
       "      <th>568</th>\n",
       "      <td>1</td>\n",
       "      <td>-1.808401</td>\n",
       "      <td>1.221792</td>\n",
       "      <td>-1.347789</td>\n",
       "      <td>-0.820070</td>\n",
       "      <td>1</td>\n",
       "    </tr>\n",
       "  </tbody>\n",
       "</table>\n",
       "<p>569 rows × 6 columns</p>\n",
       "</div>"
      ],
      "text/plain": [
       "     intercept  mean radius  mean texture  mean area  mean symmetry  target\n",
       "0            1     1.097064     -2.073335   0.984375       2.217515       0\n",
       "1            1     1.829821     -0.353632   1.908708       0.001392       0\n",
       "2            1     1.579888      0.456187   1.558884       0.939685       0\n",
       "3            1    -0.768909      0.253732  -0.764464       2.867383       0\n",
       "4            1     1.750297     -1.151816   1.826229      -0.009560       0\n",
       "..         ...          ...           ...        ...            ...     ...\n",
       "564          1     2.110995      0.721473   2.343856      -0.312589       0\n",
       "565          1     1.704854      2.085134   1.723842      -0.217664       0\n",
       "566          1     0.702284      2.045574   0.577953      -0.809117       0\n",
       "567          1     1.838341      2.336457   1.735218       2.137194       0\n",
       "568          1    -1.808401      1.221792  -1.347789      -0.820070       1\n",
       "\n",
       "[569 rows x 6 columns]"
      ]
     },
     "execution_count": 59,
     "metadata": {},
     "output_type": "execute_result"
    }
   ],
   "source": [
    "from sklearn.preprocessing import StandardScaler\n",
    "data = datasets.load_breast_cancer()\n",
    "scaler = StandardScaler()\n",
    "st = scaler.fit_transform(data.data)\n",
    "ex = pd.DataFrame(st, columns = data.feature_names)\n",
    "ex['target'] = data.target\n",
    "ex['intercept'] = 1\n",
    "ex = ex[['intercept','mean radius', 'mean texture', 'mean area', 'mean symmetry','target']]\n",
    "ex"
   ]
  },
  {
   "cell_type": "code",
   "execution_count": 60,
   "id": "771a92ce",
   "metadata": {},
   "outputs": [
    {
     "data": {
      "text/plain": [
       "target\n",
       "0    212\n",
       "1    357\n",
       "dtype: int64"
      ]
     },
     "execution_count": 60,
     "metadata": {},
     "output_type": "execute_result"
    }
   ],
   "source": [
    "ex.groupby('target').size()"
   ]
  },
  {
   "cell_type": "code",
   "execution_count": 61,
   "id": "1301971a",
   "metadata": {},
   "outputs": [
    {
     "name": "stdout",
     "output_type": "stream",
     "text": [
      "[[ 0.14]\n",
      " [-3.65]\n",
      " [-0.9 ]\n",
      " [ 2.31]\n",
      " [-0.8 ]]\n",
      "[[ 0.68]\n",
      " [-4.23]\n",
      " [-0.84]\n",
      " [ 1.87]\n",
      " [-1.01]]\n",
      "[[ 0.77]\n",
      " [-3.96]\n",
      " [-1.02]\n",
      " [ 0.58]\n",
      " [-1.28]]\n",
      "[[ 0.51]\n",
      " [-1.38]\n",
      " [-1.13]\n",
      " [-3.  ]\n",
      " [-1.44]]\n",
      "[[ 0.2 ]\n",
      " [ 1.23]\n",
      " [-1.17]\n",
      " [-6.33]\n",
      " [-1.51]]\n",
      "[[ 0.13]\n",
      " [ 1.76]\n",
      " [-1.18]\n",
      " [-7.03]\n",
      " [-1.52]]\n",
      "[[ 0.13]\n",
      " [ 1.78]\n",
      " [-1.18]\n",
      " [-7.06]\n",
      " [-1.52]]\n",
      "[[ 0.13]\n",
      " [ 1.78]\n",
      " [-1.18]\n",
      " [-7.06]\n",
      " [-1.52]]\n",
      "[[ 0.13]\n",
      " [ 1.78]\n",
      " [-1.18]\n",
      " [-7.06]\n",
      " [-1.52]]\n"
     ]
    }
   ],
   "source": [
    "x = ex[['intercept','mean radius', 'mean texture', 'mean area', 'mean symmetry']].values\n",
    "y = ex['target'].values.reshape(-1,1)\n",
    "weight_vec = np.random.normal(0,1,[5,1])\n",
    "weight = [weight_vec]\n",
    "while True:\n",
    "    pi = 1/(1+np.exp(-x@weight_vec))\n",
    "    grad = (1/len(ex))*(x.T@(pi-y))\n",
    "    \n",
    "    # np.dot, @ 매우 느림 .dot이 빠름\n",
    "    H = (x.T.dot(np.diag(pi.reshape(len(ex)))).dot(np.diag((1-pi).reshape(len(ex)))).dot(x))\n",
    "    weight_vec = weight_vec - (np.linalg.inv(1/len(ex)*H).T@grad) # np.linalg.pinv\n",
    "    weight.append(weight_vec)\n",
    "    print(np.round(weight_vec,2))\n",
    "    \n",
    "    if all(np.round(weight[-2],10) == np.round(weight_vec,10)): # 이전 가중치와 소수점 10자리까지 같으면 중지\n",
    "        break\n",
    "        "
   ]
  },
  {
   "cell_type": "code",
   "execution_count": 62,
   "id": "477182fb",
   "metadata": {},
   "outputs": [
    {
     "name": "stdout",
     "output_type": "stream",
     "text": [
      "Optimization terminated successfully.\n",
      "         Current function value: 0.192953\n",
      "         Iterations 10\n"
     ]
    },
    {
     "data": {
      "text/html": [
       "<table class=\"simpletable\">\n",
       "<caption>Logit Regression Results</caption>\n",
       "<tr>\n",
       "  <th>Dep. Variable:</th>           <td>y</td>        <th>  No. Observations:  </th>   <td>   569</td>  \n",
       "</tr>\n",
       "<tr>\n",
       "  <th>Model:</th>                 <td>Logit</td>      <th>  Df Residuals:      </th>   <td>   564</td>  \n",
       "</tr>\n",
       "<tr>\n",
       "  <th>Method:</th>                 <td>MLE</td>       <th>  Df Model:          </th>   <td>     4</td>  \n",
       "</tr>\n",
       "<tr>\n",
       "  <th>Date:</th>            <td>Wed, 29 Jun 2022</td> <th>  Pseudo R-squ.:     </th>   <td>0.7078</td>  \n",
       "</tr>\n",
       "<tr>\n",
       "  <th>Time:</th>                <td>10:21:16</td>     <th>  Log-Likelihood:    </th>  <td> -109.79</td> \n",
       "</tr>\n",
       "<tr>\n",
       "  <th>converged:</th>             <td>True</td>       <th>  LL-Null:           </th>  <td> -375.72</td> \n",
       "</tr>\n",
       "<tr>\n",
       "  <th>Covariance Type:</th>     <td>nonrobust</td>    <th>  LLR p-value:       </th> <td>8.602e-114</td>\n",
       "</tr>\n",
       "</table>\n",
       "<table class=\"simpletable\">\n",
       "<tr>\n",
       "    <td></td>       <th>coef</th>     <th>std err</th>      <th>z</th>      <th>P>|z|</th>  <th>[0.025</th>    <th>0.975]</th>  \n",
       "</tr>\n",
       "<tr>\n",
       "  <th>const</th> <td>    0.1310</td> <td>    0.427</td> <td>    0.307</td> <td> 0.759</td> <td>   -0.705</td> <td>    0.967</td>\n",
       "</tr>\n",
       "<tr>\n",
       "  <th>x1</th>    <td>    1.7760</td> <td>    3.608</td> <td>    0.492</td> <td> 0.623</td> <td>   -5.296</td> <td>    8.848</td>\n",
       "</tr>\n",
       "<tr>\n",
       "  <th>x2</th>    <td>   -1.1798</td> <td>    0.195</td> <td>   -6.055</td> <td> 0.000</td> <td>   -1.562</td> <td>   -0.798</td>\n",
       "</tr>\n",
       "<tr>\n",
       "  <th>x3</th>    <td>   -7.0555</td> <td>    4.240</td> <td>   -1.664</td> <td> 0.096</td> <td>  -15.366</td> <td>    1.255</td>\n",
       "</tr>\n",
       "<tr>\n",
       "  <th>x4</th>    <td>   -1.5228</td> <td>    0.215</td> <td>   -7.073</td> <td> 0.000</td> <td>   -1.945</td> <td>   -1.101</td>\n",
       "</tr>\n",
       "</table><br/><br/>Possibly complete quasi-separation: A fraction 0.10 of observations can be<br/>perfectly predicted. This might indicate that there is complete<br/>quasi-separation. In this case some parameters will not be identified."
      ],
      "text/plain": [
       "<class 'statsmodels.iolib.summary.Summary'>\n",
       "\"\"\"\n",
       "                           Logit Regression Results                           \n",
       "==============================================================================\n",
       "Dep. Variable:                      y   No. Observations:                  569\n",
       "Model:                          Logit   Df Residuals:                      564\n",
       "Method:                           MLE   Df Model:                            4\n",
       "Date:                Wed, 29 Jun 2022   Pseudo R-squ.:                  0.7078\n",
       "Time:                        10:21:16   Log-Likelihood:                -109.79\n",
       "converged:                       True   LL-Null:                       -375.72\n",
       "Covariance Type:            nonrobust   LLR p-value:                8.602e-114\n",
       "==============================================================================\n",
       "                 coef    std err          z      P>|z|      [0.025      0.975]\n",
       "------------------------------------------------------------------------------\n",
       "const          0.1310      0.427      0.307      0.759      -0.705       0.967\n",
       "x1             1.7760      3.608      0.492      0.623      -5.296       8.848\n",
       "x2            -1.1798      0.195     -6.055      0.000      -1.562      -0.798\n",
       "x3            -7.0555      4.240     -1.664      0.096     -15.366       1.255\n",
       "x4            -1.5228      0.215     -7.073      0.000      -1.945      -1.101\n",
       "==============================================================================\n",
       "\n",
       "Possibly complete quasi-separation: A fraction 0.10 of observations can be\n",
       "perfectly predicted. This might indicate that there is complete\n",
       "quasi-separation. In this case some parameters will not be identified.\n",
       "\"\"\""
      ]
     },
     "execution_count": 62,
     "metadata": {},
     "output_type": "execute_result"
    }
   ],
   "source": [
    "import statsmodels.api as sm\n",
    "logit_model = sm.Logit(y, x).fit()\n",
    "logit_model.summary()"
   ]
  },
  {
   "cell_type": "code",
   "execution_count": 63,
   "id": "47a94db8",
   "metadata": {},
   "outputs": [
    {
     "name": "stdout",
     "output_type": "stream",
     "text": [
      "sklearn library: [0.57061904] [[-2.04511424 -1.08127742 -2.07942275 -1.36601857]]\n",
      "Implementation: [[ 0.13100912  1.77597861 -1.17984702 -7.05548543 -1.52283888]]\n"
     ]
    }
   ],
   "source": [
    "model = LogisticRegression()\n",
    "model.fit(ex[['mean radius', 'mean texture', 'mean area', 'mean symmetry']].values.reshape(-1,4), ex[\"target\"])\n",
    "print(\"sklearn library:\", model.intercept_, model.coef_)\n",
    "print(\"Implementation:\",weight[-1].T)"
   ]
  }
 ],
 "metadata": {
  "kernelspec": {
   "display_name": "Python 3 (ipykernel)",
   "language": "python",
   "name": "python3"
  },
  "language_info": {
   "codemirror_mode": {
    "name": "ipython",
    "version": 3
   },
   "file_extension": ".py",
   "mimetype": "text/x-python",
   "name": "python",
   "nbconvert_exporter": "python",
   "pygments_lexer": "ipython3",
   "version": "3.9.7"
  },
  "widgets": {
   "application/vnd.jupyter.widget-state+json": {
    "state": {},
    "version_major": 2,
    "version_minor": 0
   }
  }
 },
 "nbformat": 4,
 "nbformat_minor": 5
}
