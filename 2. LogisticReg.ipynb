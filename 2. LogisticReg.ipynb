{
 "cells": [
  {
   "cell_type": "markdown",
   "id": "2336f076",
   "metadata": {},
   "source": [
    "https://thelaziestprogrammer.com/sharrington/math-of-machine-learning/solving-logreg-newtons-method\n",
    "\n",
    "https://rstudio-pubs-static.s3.amazonaws.com/160015_b192ca9855e84b57814e785ebd034a5e.html\n",
    "\n",
    "https://www.dotnetlovers.com/Article/225/logistic-regression-explained\n",
    "\n",
    "https://www.kaggle.com/code/elyas19/implement-logistic-regression-from-scratch/notebook\n",
    "\n",
    "https://sonsnotation.blogspot.com/2020/11/2-logistic-regression.html\n",
    "\n",
    "https://lee-jaejoon.github.io/stat-logistic/"
   ]
  },
  {
   "cell_type": "code",
   "execution_count": 1,
   "id": "b7f23fb8",
   "metadata": {},
   "outputs": [],
   "source": [
    "import numpy as np\n",
    "import pandas as pd\n",
    "import random"
   ]
  },
  {
   "cell_type": "markdown",
   "id": "009007e9",
   "metadata": {},
   "source": [
    "# Data Generating"
   ]
  },
  {
   "cell_type": "code",
   "execution_count": 127,
   "id": "b2ec05cf",
   "metadata": {},
   "outputs": [],
   "source": [
    "sample_size = 10000\n",
    "x = np.random.normal(0,1,sample_size)\n",
    "pi = 3 + (10 * x)\n",
    "p = 1 / (1 + np.exp(-pi))\n",
    "y = np.random.binomial(1,p,sample_size)\n",
    "index_list=list(range(0,10000))\n",
    "df = pd.DataFrame(y,x,columns=['y'])\n",
    "df = df.reset_index().rename(columns={\"index\": \"x\"})\n",
    "df['intercept'] = 1\n",
    "df = df[['intercept','x','y']]"
   ]
  },
  {
   "cell_type": "code",
   "execution_count": 128,
   "id": "cc7d0611",
   "metadata": {},
   "outputs": [
    {
     "data": {
      "text/html": [
       "<div>\n",
       "<style scoped>\n",
       "    .dataframe tbody tr th:only-of-type {\n",
       "        vertical-align: middle;\n",
       "    }\n",
       "\n",
       "    .dataframe tbody tr th {\n",
       "        vertical-align: top;\n",
       "    }\n",
       "\n",
       "    .dataframe thead th {\n",
       "        text-align: right;\n",
       "    }\n",
       "</style>\n",
       "<table border=\"1\" class=\"dataframe\">\n",
       "  <thead>\n",
       "    <tr style=\"text-align: right;\">\n",
       "      <th></th>\n",
       "      <th>intercept</th>\n",
       "      <th>x</th>\n",
       "      <th>y</th>\n",
       "    </tr>\n",
       "  </thead>\n",
       "  <tbody>\n",
       "    <tr>\n",
       "      <th>0</th>\n",
       "      <td>1</td>\n",
       "      <td>1.510639</td>\n",
       "      <td>1</td>\n",
       "    </tr>\n",
       "    <tr>\n",
       "      <th>1</th>\n",
       "      <td>1</td>\n",
       "      <td>0.441886</td>\n",
       "      <td>1</td>\n",
       "    </tr>\n",
       "    <tr>\n",
       "      <th>2</th>\n",
       "      <td>1</td>\n",
       "      <td>0.457521</td>\n",
       "      <td>1</td>\n",
       "    </tr>\n",
       "    <tr>\n",
       "      <th>3</th>\n",
       "      <td>1</td>\n",
       "      <td>0.796044</td>\n",
       "      <td>1</td>\n",
       "    </tr>\n",
       "    <tr>\n",
       "      <th>4</th>\n",
       "      <td>1</td>\n",
       "      <td>0.201056</td>\n",
       "      <td>1</td>\n",
       "    </tr>\n",
       "    <tr>\n",
       "      <th>...</th>\n",
       "      <td>...</td>\n",
       "      <td>...</td>\n",
       "      <td>...</td>\n",
       "    </tr>\n",
       "    <tr>\n",
       "      <th>9995</th>\n",
       "      <td>1</td>\n",
       "      <td>0.781607</td>\n",
       "      <td>1</td>\n",
       "    </tr>\n",
       "    <tr>\n",
       "      <th>9996</th>\n",
       "      <td>1</td>\n",
       "      <td>1.543853</td>\n",
       "      <td>1</td>\n",
       "    </tr>\n",
       "    <tr>\n",
       "      <th>9997</th>\n",
       "      <td>1</td>\n",
       "      <td>-1.378448</td>\n",
       "      <td>0</td>\n",
       "    </tr>\n",
       "    <tr>\n",
       "      <th>9998</th>\n",
       "      <td>1</td>\n",
       "      <td>0.490335</td>\n",
       "      <td>1</td>\n",
       "    </tr>\n",
       "    <tr>\n",
       "      <th>9999</th>\n",
       "      <td>1</td>\n",
       "      <td>-0.267627</td>\n",
       "      <td>0</td>\n",
       "    </tr>\n",
       "  </tbody>\n",
       "</table>\n",
       "<p>10000 rows × 3 columns</p>\n",
       "</div>"
      ],
      "text/plain": [
       "      intercept         x  y\n",
       "0             1  1.510639  1\n",
       "1             1  0.441886  1\n",
       "2             1  0.457521  1\n",
       "3             1  0.796044  1\n",
       "4             1  0.201056  1\n",
       "...         ...       ... ..\n",
       "9995          1  0.781607  1\n",
       "9996          1  1.543853  1\n",
       "9997          1 -1.378448  0\n",
       "9998          1  0.490335  1\n",
       "9999          1 -0.267627  0\n",
       "\n",
       "[10000 rows x 3 columns]"
      ]
     },
     "execution_count": 128,
     "metadata": {},
     "output_type": "execute_result"
    }
   ],
   "source": [
    "df"
   ]
  },
  {
   "cell_type": "markdown",
   "id": "7f4d0a92",
   "metadata": {},
   "source": [
    "# Newton's Method"
   ]
  },
  {
   "cell_type": "code",
   "execution_count": 131,
   "id": "48c16f87",
   "metadata": {
    "scrolled": true
   },
   "outputs": [
    {
     "name": "stdout",
     "output_type": "stream",
     "text": [
      "[[1.59]\n",
      " [0.98]]\n",
      "[[3.  ]\n",
      " [1.11]]\n",
      "[[4.7]\n",
      " [1.5]]\n",
      "[[6.69]\n",
      " [2.03]]\n",
      "[[8.58]\n",
      " [2.57]]\n",
      "[[9.7]\n",
      " [2.9]]\n",
      "[[9.96]\n",
      " [2.98]]\n",
      "[[9.97]\n",
      " [2.98]]\n",
      "[[9.97]\n",
      " [2.98]]\n",
      "[[9.97]\n",
      " [2.98]]\n"
     ]
    }
   ],
   "source": [
    "# x = np.concatenate((df['x'].values.reshape(-1,1),df['intercept'].values.reshape(-1,1)), axis=1)\n",
    "x = df[['x','intercept']].values\n",
    "y = df['y'].values.reshape(-1,1)\n",
    "weight_vec = np.random.normal(0,1,[2,1])\n",
    "weight = [weight_vec]\n",
    "\n",
    "while True:\n",
    "    pi = 1/(1+np.exp(-x@weight_vec))\n",
    "    grad = (1/len(df))*x.T@(pi-y)\n",
    "    \n",
    "    # np.dot, @ 매우 느림 .dot이 빠름\n",
    "    H = (1/len(df))*x.T.dot(np.diag(pi.reshape(len(df)))).dot(np.diag((1-pi).reshape(len(df)))).dot(x)\n",
    "    weight_vec = weight_vec - np.linalg.inv(H).T@grad # np.linalg.pinv\n",
    "    weight.append(weight_vec)\n",
    "    print(np.round(weight_vec,2))\n",
    "    \n",
    "    if all(np.round(weight[-2],10) == np.round(weight_vec,10)): # 이전 가중치와 소수점 10자리까지 같으면 중지\n",
    "        break"
   ]
  },
  {
   "cell_type": "markdown",
   "id": "171da932",
   "metadata": {},
   "source": [
    "# Predict"
   ]
  },
  {
   "cell_type": "code",
   "execution_count": 132,
   "id": "c07d3db8",
   "metadata": {},
   "outputs": [],
   "source": [
    "df['p'] = 1/(1+np.exp(-(weight_vec[0]*df['x'] + weight_vec[1])))\n",
    "df['p'].fillna(0,inplace=True)\n",
    "\n",
    "# cutoff\n",
    "df.loc[df['p'] >= 0.5, 'result'] = 1\n",
    "df.loc[df['p'] < 0.5, 'result'] = 0"
   ]
  },
  {
   "cell_type": "code",
   "execution_count": 133,
   "id": "a108a735",
   "metadata": {
    "scrolled": true
   },
   "outputs": [
    {
     "data": {
      "text/html": [
       "<div>\n",
       "<style scoped>\n",
       "    .dataframe tbody tr th:only-of-type {\n",
       "        vertical-align: middle;\n",
       "    }\n",
       "\n",
       "    .dataframe tbody tr th {\n",
       "        vertical-align: top;\n",
       "    }\n",
       "\n",
       "    .dataframe thead th {\n",
       "        text-align: right;\n",
       "    }\n",
       "</style>\n",
       "<table border=\"1\" class=\"dataframe\">\n",
       "  <thead>\n",
       "    <tr style=\"text-align: right;\">\n",
       "      <th></th>\n",
       "      <th>intercept</th>\n",
       "      <th>x</th>\n",
       "      <th>y</th>\n",
       "      <th>p</th>\n",
       "      <th>result</th>\n",
       "    </tr>\n",
       "  </thead>\n",
       "  <tbody>\n",
       "    <tr>\n",
       "      <th>0</th>\n",
       "      <td>1</td>\n",
       "      <td>1.510639</td>\n",
       "      <td>1</td>\n",
       "      <td>1.000000</td>\n",
       "      <td>1.0</td>\n",
       "    </tr>\n",
       "    <tr>\n",
       "      <th>1</th>\n",
       "      <td>1</td>\n",
       "      <td>0.441886</td>\n",
       "      <td>1</td>\n",
       "      <td>0.999379</td>\n",
       "      <td>1.0</td>\n",
       "    </tr>\n",
       "    <tr>\n",
       "      <th>2</th>\n",
       "      <td>1</td>\n",
       "      <td>0.457521</td>\n",
       "      <td>1</td>\n",
       "      <td>0.999469</td>\n",
       "      <td>1.0</td>\n",
       "    </tr>\n",
       "    <tr>\n",
       "      <th>3</th>\n",
       "      <td>1</td>\n",
       "      <td>0.796044</td>\n",
       "      <td>1</td>\n",
       "      <td>0.999982</td>\n",
       "      <td>1.0</td>\n",
       "    </tr>\n",
       "    <tr>\n",
       "      <th>4</th>\n",
       "      <td>1</td>\n",
       "      <td>0.201056</td>\n",
       "      <td>1</td>\n",
       "      <td>0.993198</td>\n",
       "      <td>1.0</td>\n",
       "    </tr>\n",
       "    <tr>\n",
       "      <th>...</th>\n",
       "      <td>...</td>\n",
       "      <td>...</td>\n",
       "      <td>...</td>\n",
       "      <td>...</td>\n",
       "      <td>...</td>\n",
       "    </tr>\n",
       "    <tr>\n",
       "      <th>9995</th>\n",
       "      <td>1</td>\n",
       "      <td>0.781607</td>\n",
       "      <td>1</td>\n",
       "      <td>0.999979</td>\n",
       "      <td>1.0</td>\n",
       "    </tr>\n",
       "    <tr>\n",
       "      <th>9996</th>\n",
       "      <td>1</td>\n",
       "      <td>1.543853</td>\n",
       "      <td>1</td>\n",
       "      <td>1.000000</td>\n",
       "      <td>1.0</td>\n",
       "    </tr>\n",
       "    <tr>\n",
       "      <th>9997</th>\n",
       "      <td>1</td>\n",
       "      <td>-1.378448</td>\n",
       "      <td>0</td>\n",
       "      <td>0.000021</td>\n",
       "      <td>0.0</td>\n",
       "    </tr>\n",
       "    <tr>\n",
       "      <th>9998</th>\n",
       "      <td>1</td>\n",
       "      <td>0.490335</td>\n",
       "      <td>1</td>\n",
       "      <td>0.999617</td>\n",
       "      <td>1.0</td>\n",
       "    </tr>\n",
       "    <tr>\n",
       "      <th>9999</th>\n",
       "      <td>1</td>\n",
       "      <td>-0.267627</td>\n",
       "      <td>0</td>\n",
       "      <td>0.577302</td>\n",
       "      <td>1.0</td>\n",
       "    </tr>\n",
       "  </tbody>\n",
       "</table>\n",
       "<p>10000 rows × 5 columns</p>\n",
       "</div>"
      ],
      "text/plain": [
       "      intercept         x  y         p  result\n",
       "0             1  1.510639  1  1.000000     1.0\n",
       "1             1  0.441886  1  0.999379     1.0\n",
       "2             1  0.457521  1  0.999469     1.0\n",
       "3             1  0.796044  1  0.999982     1.0\n",
       "4             1  0.201056  1  0.993198     1.0\n",
       "...         ...       ... ..       ...     ...\n",
       "9995          1  0.781607  1  0.999979     1.0\n",
       "9996          1  1.543853  1  1.000000     1.0\n",
       "9997          1 -1.378448  0  0.000021     0.0\n",
       "9998          1  0.490335  1  0.999617     1.0\n",
       "9999          1 -0.267627  0  0.577302     1.0\n",
       "\n",
       "[10000 rows x 5 columns]"
      ]
     },
     "execution_count": 133,
     "metadata": {},
     "output_type": "execute_result"
    }
   ],
   "source": [
    "df"
   ]
  },
  {
   "cell_type": "markdown",
   "id": "505ab09c",
   "metadata": {},
   "source": [
    "# Library"
   ]
  },
  {
   "cell_type": "code",
   "execution_count": 134,
   "id": "ebf411a2",
   "metadata": {},
   "outputs": [],
   "source": [
    "from sklearn.linear_model import LogisticRegression\n",
    "from sklearn.metrics import accuracy_score"
   ]
  },
  {
   "cell_type": "code",
   "execution_count": 135,
   "id": "51df553c",
   "metadata": {},
   "outputs": [
    {
     "data": {
      "text/plain": [
       "LogisticRegression()"
      ]
     },
     "execution_count": 135,
     "metadata": {},
     "output_type": "execute_result"
    }
   ],
   "source": [
    "model = LogisticRegression()\n",
    "model.fit(df['x'].values.reshape(-1,1), df[\"y\"])"
   ]
  },
  {
   "cell_type": "markdown",
   "id": "fe464805",
   "metadata": {},
   "source": [
    "# Comparison"
   ]
  },
  {
   "cell_type": "code",
   "execution_count": 136,
   "id": "2510a783",
   "metadata": {},
   "outputs": [
    {
     "name": "stdout",
     "output_type": "stream",
     "text": [
      "Implementation: [[9.96822816 2.97947763]]\n",
      "sklearn library: [[9.24925939]] [2.77128429]\n"
     ]
    }
   ],
   "source": [
    "# Coefficient\n",
    "print(\"Implementation:\",weight[-1].T)\n",
    "print(\"sklearn library:\",model.coef_, model.intercept_)"
   ]
  },
  {
   "cell_type": "code",
   "execution_count": 137,
   "id": "6b7b1a2f",
   "metadata": {},
   "outputs": [
    {
     "name": "stdout",
     "output_type": "stream",
     "text": [
      "Implementation: 95.02\n",
      "sklearn library: 95.01\n"
     ]
    }
   ],
   "source": [
    "# Score\n",
    "pred = model.predict(df['x'].values.reshape(-1,1))\n",
    "print(\"Implementation:\",sum(df.result.values == df.y.values)/100)\n",
    "print(\"sklearn library:\",np.round(accuracy_score(df['y'],pred)*100,2))"
   ]
  },
  {
   "cell_type": "markdown",
   "id": "f7283f1c",
   "metadata": {},
   "source": [
    "# Application"
   ]
  },
  {
   "cell_type": "code",
   "execution_count": 110,
   "id": "dd91cea8",
   "metadata": {},
   "outputs": [
    {
     "data": {
      "text/html": [
       "<div>\n",
       "<style scoped>\n",
       "    .dataframe tbody tr th:only-of-type {\n",
       "        vertical-align: middle;\n",
       "    }\n",
       "\n",
       "    .dataframe tbody tr th {\n",
       "        vertical-align: top;\n",
       "    }\n",
       "\n",
       "    .dataframe thead th {\n",
       "        text-align: right;\n",
       "    }\n",
       "</style>\n",
       "<table border=\"1\" class=\"dataframe\">\n",
       "  <thead>\n",
       "    <tr style=\"text-align: right;\">\n",
       "      <th></th>\n",
       "      <th>mean radius</th>\n",
       "      <th>mean texture</th>\n",
       "      <th>mean area</th>\n",
       "      <th>mean symmetry</th>\n",
       "      <th>target</th>\n",
       "    </tr>\n",
       "  </thead>\n",
       "  <tbody>\n",
       "    <tr>\n",
       "      <th>0</th>\n",
       "      <td>17.99</td>\n",
       "      <td>10.38</td>\n",
       "      <td>1001.0</td>\n",
       "      <td>0.2419</td>\n",
       "      <td>0</td>\n",
       "    </tr>\n",
       "    <tr>\n",
       "      <th>1</th>\n",
       "      <td>20.57</td>\n",
       "      <td>17.77</td>\n",
       "      <td>1326.0</td>\n",
       "      <td>0.1812</td>\n",
       "      <td>0</td>\n",
       "    </tr>\n",
       "    <tr>\n",
       "      <th>2</th>\n",
       "      <td>19.69</td>\n",
       "      <td>21.25</td>\n",
       "      <td>1203.0</td>\n",
       "      <td>0.2069</td>\n",
       "      <td>0</td>\n",
       "    </tr>\n",
       "    <tr>\n",
       "      <th>3</th>\n",
       "      <td>11.42</td>\n",
       "      <td>20.38</td>\n",
       "      <td>386.1</td>\n",
       "      <td>0.2597</td>\n",
       "      <td>0</td>\n",
       "    </tr>\n",
       "    <tr>\n",
       "      <th>4</th>\n",
       "      <td>20.29</td>\n",
       "      <td>14.34</td>\n",
       "      <td>1297.0</td>\n",
       "      <td>0.1809</td>\n",
       "      <td>0</td>\n",
       "    </tr>\n",
       "    <tr>\n",
       "      <th>...</th>\n",
       "      <td>...</td>\n",
       "      <td>...</td>\n",
       "      <td>...</td>\n",
       "      <td>...</td>\n",
       "      <td>...</td>\n",
       "    </tr>\n",
       "    <tr>\n",
       "      <th>564</th>\n",
       "      <td>21.56</td>\n",
       "      <td>22.39</td>\n",
       "      <td>1479.0</td>\n",
       "      <td>0.1726</td>\n",
       "      <td>0</td>\n",
       "    </tr>\n",
       "    <tr>\n",
       "      <th>565</th>\n",
       "      <td>20.13</td>\n",
       "      <td>28.25</td>\n",
       "      <td>1261.0</td>\n",
       "      <td>0.1752</td>\n",
       "      <td>0</td>\n",
       "    </tr>\n",
       "    <tr>\n",
       "      <th>566</th>\n",
       "      <td>16.60</td>\n",
       "      <td>28.08</td>\n",
       "      <td>858.1</td>\n",
       "      <td>0.1590</td>\n",
       "      <td>0</td>\n",
       "    </tr>\n",
       "    <tr>\n",
       "      <th>567</th>\n",
       "      <td>20.60</td>\n",
       "      <td>29.33</td>\n",
       "      <td>1265.0</td>\n",
       "      <td>0.2397</td>\n",
       "      <td>0</td>\n",
       "    </tr>\n",
       "    <tr>\n",
       "      <th>568</th>\n",
       "      <td>7.76</td>\n",
       "      <td>24.54</td>\n",
       "      <td>181.0</td>\n",
       "      <td>0.1587</td>\n",
       "      <td>1</td>\n",
       "    </tr>\n",
       "  </tbody>\n",
       "</table>\n",
       "<p>569 rows × 5 columns</p>\n",
       "</div>"
      ],
      "text/plain": [
       "     mean radius  mean texture  mean area  mean symmetry  target\n",
       "0          17.99         10.38     1001.0         0.2419       0\n",
       "1          20.57         17.77     1326.0         0.1812       0\n",
       "2          19.69         21.25     1203.0         0.2069       0\n",
       "3          11.42         20.38      386.1         0.2597       0\n",
       "4          20.29         14.34     1297.0         0.1809       0\n",
       "..           ...           ...        ...            ...     ...\n",
       "564        21.56         22.39     1479.0         0.1726       0\n",
       "565        20.13         28.25     1261.0         0.1752       0\n",
       "566        16.60         28.08      858.1         0.1590       0\n",
       "567        20.60         29.33     1265.0         0.2397       0\n",
       "568         7.76         24.54      181.0         0.1587       1\n",
       "\n",
       "[569 rows x 5 columns]"
      ]
     },
     "execution_count": 110,
     "metadata": {},
     "output_type": "execute_result"
    }
   ],
   "source": [
    "import pandas as pd\n",
    "from sklearn import datasets\n",
    "\n",
    "data = datasets.load_breast_cancer()\n",
    "ex = pd.DataFrame(data.data, columns = data.feature_names)\n",
    "ex = ex[['mean radius', 'mean texture', 'mean area', 'mean symmetry']]\n",
    "ex['target'] = data.target\n",
    "ex"
   ]
  },
  {
   "cell_type": "code",
   "execution_count": 111,
   "id": "4125a96f",
   "metadata": {},
   "outputs": [],
   "source": [
    "ex['intercept'] = 1\n",
    "ex = ex[['intercept','mean radius','mean texture','mean area','mean symmetry','target']]"
   ]
  },
  {
   "cell_type": "code",
   "execution_count": 112,
   "id": "979669a4",
   "metadata": {},
   "outputs": [
    {
     "data": {
      "text/html": [
       "<div>\n",
       "<style scoped>\n",
       "    .dataframe tbody tr th:only-of-type {\n",
       "        vertical-align: middle;\n",
       "    }\n",
       "\n",
       "    .dataframe tbody tr th {\n",
       "        vertical-align: top;\n",
       "    }\n",
       "\n",
       "    .dataframe thead th {\n",
       "        text-align: right;\n",
       "    }\n",
       "</style>\n",
       "<table border=\"1\" class=\"dataframe\">\n",
       "  <thead>\n",
       "    <tr style=\"text-align: right;\">\n",
       "      <th></th>\n",
       "      <th>intercept</th>\n",
       "      <th>mean radius</th>\n",
       "      <th>mean texture</th>\n",
       "      <th>mean area</th>\n",
       "      <th>mean symmetry</th>\n",
       "      <th>target</th>\n",
       "    </tr>\n",
       "  </thead>\n",
       "  <tbody>\n",
       "    <tr>\n",
       "      <th>0</th>\n",
       "      <td>1</td>\n",
       "      <td>17.99</td>\n",
       "      <td>10.38</td>\n",
       "      <td>1001.0</td>\n",
       "      <td>0.2419</td>\n",
       "      <td>0</td>\n",
       "    </tr>\n",
       "    <tr>\n",
       "      <th>1</th>\n",
       "      <td>1</td>\n",
       "      <td>20.57</td>\n",
       "      <td>17.77</td>\n",
       "      <td>1326.0</td>\n",
       "      <td>0.1812</td>\n",
       "      <td>0</td>\n",
       "    </tr>\n",
       "    <tr>\n",
       "      <th>2</th>\n",
       "      <td>1</td>\n",
       "      <td>19.69</td>\n",
       "      <td>21.25</td>\n",
       "      <td>1203.0</td>\n",
       "      <td>0.2069</td>\n",
       "      <td>0</td>\n",
       "    </tr>\n",
       "    <tr>\n",
       "      <th>3</th>\n",
       "      <td>1</td>\n",
       "      <td>11.42</td>\n",
       "      <td>20.38</td>\n",
       "      <td>386.1</td>\n",
       "      <td>0.2597</td>\n",
       "      <td>0</td>\n",
       "    </tr>\n",
       "    <tr>\n",
       "      <th>4</th>\n",
       "      <td>1</td>\n",
       "      <td>20.29</td>\n",
       "      <td>14.34</td>\n",
       "      <td>1297.0</td>\n",
       "      <td>0.1809</td>\n",
       "      <td>0</td>\n",
       "    </tr>\n",
       "    <tr>\n",
       "      <th>...</th>\n",
       "      <td>...</td>\n",
       "      <td>...</td>\n",
       "      <td>...</td>\n",
       "      <td>...</td>\n",
       "      <td>...</td>\n",
       "      <td>...</td>\n",
       "    </tr>\n",
       "    <tr>\n",
       "      <th>564</th>\n",
       "      <td>1</td>\n",
       "      <td>21.56</td>\n",
       "      <td>22.39</td>\n",
       "      <td>1479.0</td>\n",
       "      <td>0.1726</td>\n",
       "      <td>0</td>\n",
       "    </tr>\n",
       "    <tr>\n",
       "      <th>565</th>\n",
       "      <td>1</td>\n",
       "      <td>20.13</td>\n",
       "      <td>28.25</td>\n",
       "      <td>1261.0</td>\n",
       "      <td>0.1752</td>\n",
       "      <td>0</td>\n",
       "    </tr>\n",
       "    <tr>\n",
       "      <th>566</th>\n",
       "      <td>1</td>\n",
       "      <td>16.60</td>\n",
       "      <td>28.08</td>\n",
       "      <td>858.1</td>\n",
       "      <td>0.1590</td>\n",
       "      <td>0</td>\n",
       "    </tr>\n",
       "    <tr>\n",
       "      <th>567</th>\n",
       "      <td>1</td>\n",
       "      <td>20.60</td>\n",
       "      <td>29.33</td>\n",
       "      <td>1265.0</td>\n",
       "      <td>0.2397</td>\n",
       "      <td>0</td>\n",
       "    </tr>\n",
       "    <tr>\n",
       "      <th>568</th>\n",
       "      <td>1</td>\n",
       "      <td>7.76</td>\n",
       "      <td>24.54</td>\n",
       "      <td>181.0</td>\n",
       "      <td>0.1587</td>\n",
       "      <td>1</td>\n",
       "    </tr>\n",
       "  </tbody>\n",
       "</table>\n",
       "<p>569 rows × 6 columns</p>\n",
       "</div>"
      ],
      "text/plain": [
       "     intercept  mean radius  mean texture  mean area  mean symmetry  target\n",
       "0            1        17.99         10.38     1001.0         0.2419       0\n",
       "1            1        20.57         17.77     1326.0         0.1812       0\n",
       "2            1        19.69         21.25     1203.0         0.2069       0\n",
       "3            1        11.42         20.38      386.1         0.2597       0\n",
       "4            1        20.29         14.34     1297.0         0.1809       0\n",
       "..         ...          ...           ...        ...            ...     ...\n",
       "564          1        21.56         22.39     1479.0         0.1726       0\n",
       "565          1        20.13         28.25     1261.0         0.1752       0\n",
       "566          1        16.60         28.08      858.1         0.1590       0\n",
       "567          1        20.60         29.33     1265.0         0.2397       0\n",
       "568          1         7.76         24.54      181.0         0.1587       1\n",
       "\n",
       "[569 rows x 6 columns]"
      ]
     },
     "execution_count": 112,
     "metadata": {},
     "output_type": "execute_result"
    }
   ],
   "source": [
    "ex"
   ]
  },
  {
   "cell_type": "code",
   "execution_count": 138,
   "id": "efd18d89",
   "metadata": {},
   "outputs": [],
   "source": [
    "ex_x =  ex[['intercept','mean radius','mean texture','mean area','mean symmetry']].values\n",
    "ex_y = ex['target'].values.reshape(-1,1)\n",
    "weight_vec = np.random.normal(0,1,[5,1])\n",
    "weight=[weight_vec]\n"
   ]
  },
  {
   "cell_type": "code",
   "execution_count": 116,
   "id": "ecf22771",
   "metadata": {},
   "outputs": [
    {
     "name": "stdout",
     "output_type": "stream",
     "text": [
      "[[-0.34]\n",
      " [-0.64]\n",
      " [ 1.11]\n",
      " [ 0.19]\n",
      " [-0.15]]\n"
     ]
    }
   ],
   "source": [
    "while True:\n",
    "    pi = 1/(1+np.exp(-ex_x@weight_vec))\n",
    "    grad = (1/len(ex))*ex_x.T@(pi-ex_y)\n",
    "    \n",
    "    # np.dot, @ 매우 느림 .dot이 빠름\n",
    "    H = (1/len(ex))*ex_x.T.dot(np.diag(pi.reshape(len(ex)))).dot(np.diag((1-pi).reshape(len(ex)))).dot(ex_x)\n",
    "    weight_vec = weight_vec - np.linalg.pinv(H).T@grad # np.linalg.pinv\n",
    "    weight.append(weight_vec)\n",
    "    print(np.round(weight_vec,2))\n",
    "    \n",
    "#    if all(np.round(weight[-2],10) == np.round(weight_vec,10)): # 이전 가중치와 소수점 10자리까지 같으면 중지\n",
    "#        break\n",
    "    if all(np.round(weight[-2],20) == np.round(weight_vec,20)): # 이전 가중치와 소수점 10자리까지 같으면 중지\n",
    "        break"
   ]
  },
  {
   "cell_type": "code",
   "execution_count": null,
   "id": "de3f25d8",
   "metadata": {},
   "outputs": [],
   "source": [
    "x = np.concatenate((df['x'].values.reshape(-1,1),df['intercept'].values.reshape(-1,1)), axis=1)\n",
    "y = df['y'].values.reshape(-1,1)\n",
    "weight_vec = np.random.normal(0,1,[2,1])\n",
    "weight=[weight_vec]\n",
    "\n",
    "while True:\n",
    "    pi = 1/(1+np.exp(-x@weight_vec))\n",
    "    grad = (1/len(df))*x.T@(pi-y)\n",
    "    \n",
    "    # np.dot, @ 매우 느림 .dot이 빠름\n",
    "    H = (1/len(df))*x.T.dot(np.diag(pi.reshape(len(df)))).dot(np.diag((1-pi).reshape(len(df)))).dot(x)\n",
    "    weight_vec = weight_vec - np.linalg.inv(H).T@grad # np.linalg.pinv\n",
    "    weight.append(weight_vec)\n",
    "    print(np.round(weight_vec,2))\n",
    "    \n",
    "    if all(np.round(weight[-2],10) == np.round(weight_vec,10)): # 이전 가중치와 소수점 10자리까지 같으면 중지\n",
    "        break"
   ]
  },
  {
   "cell_type": "code",
   "execution_count": 94,
   "id": "4a519141",
   "metadata": {},
   "outputs": [
    {
     "name": "stderr",
     "output_type": "stream",
     "text": [
      "C:\\Users\\Byeongwoo\\anaconda3\\lib\\site-packages\\sklearn\\utils\\validation.py:63: DataConversionWarning: A column-vector y was passed when a 1d array was expected. Please change the shape of y to (n_samples, ), for example using ravel().\n",
      "  return f(*args, **kwargs)\n"
     ]
    },
    {
     "data": {
      "text/plain": [
       "LogisticRegression()"
      ]
     },
     "execution_count": 94,
     "metadata": {},
     "output_type": "execute_result"
    }
   ],
   "source": [
    "ex_model = LogisticRegression()\n",
    "ex_model.fit(ex_x, ex_y)"
   ]
  },
  {
   "cell_type": "code",
   "execution_count": 95,
   "id": "613f4f97",
   "metadata": {
    "scrolled": true
   },
   "outputs": [
    {
     "data": {
      "text/plain": [
       "(array([[ 0.10694209,  0.19408292, -0.21000379, -0.01413528, -1.31210423]]),\n",
       " array([10.94680214]))"
      ]
     },
     "execution_count": 95,
     "metadata": {},
     "output_type": "execute_result"
    }
   ],
   "source": [
    "ex_model.coef_, ex_model.intercept_"
   ]
  }
 ],
 "metadata": {
  "kernelspec": {
   "display_name": "Python 3 (ipykernel)",
   "language": "python",
   "name": "python3"
  },
  "language_info": {
   "codemirror_mode": {
    "name": "ipython",
    "version": 3
   },
   "file_extension": ".py",
   "mimetype": "text/x-python",
   "name": "python",
   "nbconvert_exporter": "python",
   "pygments_lexer": "ipython3",
   "version": "3.9.7"
  },
  "widgets": {
   "application/vnd.jupyter.widget-state+json": {
    "state": {},
    "version_major": 2,
    "version_minor": 0
   }
  }
 },
 "nbformat": 4,
 "nbformat_minor": 5
}
